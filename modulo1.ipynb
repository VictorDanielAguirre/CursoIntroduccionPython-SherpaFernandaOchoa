{
 "cells": [
  {
   "cell_type": "markdown",
   "metadata": {},
   "source": [
    "## Fecha actual"
   ]
  },
  {
   "cell_type": "code",
   "execution_count": 8,
   "metadata": {},
   "outputs": [
    {
     "name": "stdout",
     "output_type": "stream",
     "text": [
      "Today's date is: 2022-06-13\n",
      "And the current time is: 12:35:42\n"
     ]
    }
   ],
   "source": [
    "from datetime import date, datetime\n",
    "\n",
    "today = date.today()\n",
    "now = datetime.now()\n",
    "\n",
    "print(f\"Today's date is: {str(today)}\")\n",
    "print(f\"And the current time is: {str(now.hour)}:{str(now.minute)}:{str(now.second)}\")"
   ]
  },
  {
   "cell_type": "markdown",
   "metadata": {},
   "source": [
    "## Convertidor de unidades\n",
    "\n",
    "Parsecs to lightyears"
   ]
  },
  {
   "cell_type": "code",
   "execution_count": 2,
   "metadata": {},
   "outputs": [
    {
     "name": "stdout",
     "output_type": "stream",
     "text": [
      "1 parsec is equal to 3.26156 lightyears.\n",
      "10.0 parsec, is 32.6156 lightyears\n"
     ]
    }
   ],
   "source": [
    "while True:\n",
    "\ttry:\n",
    "\t\tparsec = float(input(\"Please enter parsecs: \"))\n",
    "\t\tbreak\n",
    "\texcept ValueError:\n",
    "\t\tprint(\"Oops!  That was no valid number.  Try again...\")\n",
    "\n",
    "\n",
    "lightyears = 3.26156 * parsec\n",
    "\n",
    "print(\"1 parsec is equal to 3.26156 lightyears.\")\n",
    "print(f\"{str(parsec)} parsec, is {str(lightyears)} lightyears\")"
   ]
  }
 ],
 "metadata": {
  "interpreter": {
   "hash": "87b3b2dcc8c1510dcb755a111fb225d047c6ad9c03955147371536dd28799042"
  },
  "kernelspec": {
   "display_name": "Python 3.10.4 64-bit",
   "language": "python",
   "name": "python3"
  },
  "language_info": {
   "codemirror_mode": {
    "name": "ipython",
    "version": 3
   },
   "file_extension": ".py",
   "mimetype": "text/x-python",
   "name": "python",
   "nbconvert_exporter": "python",
   "pygments_lexer": "ipython3",
   "version": "3.10.4"
  },
  "orig_nbformat": 4
 },
 "nbformat": 4,
 "nbformat_minor": 2
}
