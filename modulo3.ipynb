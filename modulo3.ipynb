{
 "cells": [
  {
   "cell_type": "code",
   "execution_count": 2,
   "metadata": {},
   "outputs": [
    {
     "name": "stdout",
     "output_type": "stream",
     "text": [
      "Oops!  That was no valid number.  Try again...\n",
      "Warning!!\n"
     ]
    }
   ],
   "source": [
    "while True:\n",
    "\ttry:\n",
    "\t\tasteroid_speed = float(input(\"Please enter the asteroid speed\"))\n",
    "\t\tbreak\n",
    "\texcept ValueError:\n",
    "\t\tprint(\"Oops!  That was no valid number.  Try again...\")\n",
    "\n",
    "\n",
    "if asteroid_speed > 25:\n",
    "\tprint(f\"Warning asteroid speed: {asteroid_speed} km/s\")\n",
    "else:\n",
    "  print('¡keep going!')"
   ]
  },
  {
   "cell_type": "code",
   "execution_count": 5,
   "metadata": {},
   "outputs": [
    {
     "name": "stdout",
     "output_type": "stream",
     "text": [
      "Look up and be surprised!\n"
     ]
    }
   ],
   "source": [
    "while True:\n",
    "\ttry:\n",
    "\t\tasteroid_speed = float(input(\"Please enter the asteroid speed\"))\n",
    "\t\tbreak\n",
    "\texcept ValueError:\n",
    "\t\tprint(\"Oops!  That was no valid number.  Try again...\")\n",
    "\n",
    "\n",
    "if asteroid_speed >= 21:\n",
    "    print('Look up and be surprised!')\n",
    "elif asteroid_speed == 20:\n",
    "    print('Look up and make a wish!')\n",
    "else:\n",
    "    print('¡keep going!')"
   ]
  },
  {
   "cell_type": "code",
   "execution_count": 8,
   "metadata": {},
   "outputs": [
    {
     "name": "stdout",
     "output_type": "stream",
     "text": [
      "Look up and make a wish!\n"
     ]
    }
   ],
   "source": [
    "while True:\n",
    "\ttry:\n",
    "\t\tasteroid_speed = float(input(\"Please enter the asteroid speed\"))\n",
    "\t\tbreak\n",
    "\texcept ValueError:\n",
    "\t\tprint(\"Oops!  That was no valid number.  Try again...\")\n",
    "\n",
    "while True:\n",
    "\ttry:\n",
    "\t\tasteroid_size = float(input(\"Please enter the asteroid size\"))\n",
    "\t\tbreak\n",
    "\texcept ValueError:\n",
    "\t\tprint(\"Oops!  That was no valid number.  Try again...\")\n",
    "\n",
    "\n",
    "if asteroid_speed > 25 and asteroid_size > 25:\n",
    "    print(f\"Warning asteroid speed: {asteroid_speed} km/s\")\n",
    "elif asteroid_speed >= 20:\n",
    "    print('Look up and make a wish!')\n",
    "elif asteroid_size < 25:\n",
    "    print('¡keep calm!')\n",
    "else:\n",
    "    print('¡keep going!')"
   ]
  }
 ],
 "metadata": {
  "interpreter": {
   "hash": "87b3b2dcc8c1510dcb755a111fb225d047c6ad9c03955147371536dd28799042"
  },
  "kernelspec": {
   "display_name": "Python 3.10.4 64-bit",
   "language": "python",
   "name": "python3"
  },
  "language_info": {
   "codemirror_mode": {
    "name": "ipython",
    "version": 3
   },
   "file_extension": ".py",
   "mimetype": "text/x-python",
   "name": "python",
   "nbconvert_exporter": "python",
   "pygments_lexer": "ipython3",
   "version": "3.10.4"
  },
  "orig_nbformat": 4
 },
 "nbformat": 4,
 "nbformat_minor": 2
}
