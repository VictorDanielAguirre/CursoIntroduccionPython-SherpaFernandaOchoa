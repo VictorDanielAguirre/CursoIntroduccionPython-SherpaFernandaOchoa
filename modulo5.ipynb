{
 "cells": [
  {
   "cell_type": "markdown",
   "metadata": {},
   "source": [
    "## Ejercicio1 - Utilizar operadores aritméticos"
   ]
  },
  {
   "cell_type": "code",
   "execution_count": 4,
   "metadata": {},
   "outputs": [
    {
     "name": "stdout",
     "output_type": "stream",
     "text": [
      "KM distance: 628949330\n",
      "MI distance: 390577533.93\n"
     ]
    }
   ],
   "source": [
    "first_planet = 149597870\n",
    "second_planet = 778547200\n",
    "\n",
    "distance_km = abs(second_planet - first_planet)\n",
    "print(f\"KM distance: {distance_km}\")\n",
    "\n",
    "distance_mi = round(distance_km * 0.621, 2)\n",
    "print(f\"MI distance: {distance_mi}\")"
   ]
  },
  {
   "cell_type": "markdown",
   "metadata": {},
   "source": [
    "## Ejercicio 2\n",
    "Convierte cadenas en números y usa valores absolutos"
   ]
  },
  {
   "cell_type": "code",
   "execution_count": 8,
   "metadata": {},
   "outputs": [
    {
     "name": "stdout",
     "output_type": "stream",
     "text": [
      "KM distance: 2093900000\n",
      "MI distance: 1300311900.0\n"
     ]
    }
   ],
   "source": [
    "while True:\n",
    "\ttry:\n",
    "\t\tfirst_planet = int(input(\"Enter the distance from the sun for the first planet in KM\"))\n",
    "\t\tbreak\n",
    "\texcept ValueError:\n",
    "\t\tprint(\"Oops!  That was no valid number.  Try again...\")\n",
    "\n",
    "while True:\n",
    "\ttry:\n",
    "\t\tsecond_planet = int(input(\"Enter the distance from the sun for the second planet in KM\"))\n",
    "\t\tbreak\n",
    "\texcept ValueError:\n",
    "\t\tprint(\"Oops!  That was no valid number.  Try again...\")\n",
    "\n",
    "\n",
    "distance_km = abs(second_planet - first_planet)\n",
    "print(f\"KM distance: {distance_km}\")\n",
    "\n",
    "distance_mi = round(distance_km * 0.621, 2)\n",
    "print(f\"MI distance: {distance_mi}\")"
   ]
  }
 ],
 "metadata": {
  "interpreter": {
   "hash": "87b3b2dcc8c1510dcb755a111fb225d047c6ad9c03955147371536dd28799042"
  },
  "kernelspec": {
   "display_name": "Python 3.10.4 64-bit",
   "language": "python",
   "name": "python3"
  },
  "language_info": {
   "codemirror_mode": {
    "name": "ipython",
    "version": 3
   },
   "file_extension": ".py",
   "mimetype": "text/x-python",
   "name": "python",
   "nbconvert_exporter": "python",
   "pygments_lexer": "ipython3",
   "version": "3.10.4"
  },
  "orig_nbformat": 4
 },
 "nbformat": 4,
 "nbformat_minor": 2
}
